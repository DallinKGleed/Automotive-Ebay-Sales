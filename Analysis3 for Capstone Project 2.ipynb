{
 "cells": [
  {
   "cell_type": "code",
   "execution_count": 1,
   "metadata": {},
   "outputs": [],
   "source": [
    "%matplotlib inline"
   ]
  },
  {
   "cell_type": "code",
   "execution_count": 2,
   "metadata": {},
   "outputs": [],
   "source": [
    "# importing required libraries\n",
    "import os\n",
    "import subprocess\n",
    "import stat\n",
    "import numpy as np\n",
    "import pandas as pd\n",
    "import seaborn as sns\n",
    "import matplotlib.pyplot as plt\n",
    "from datetime import datetime\n",
    "sns.set(style=\"white\")"
   ]
  },
  {
   "cell_type": "code",
   "execution_count": 3,
   "metadata": {},
   "outputs": [
    {
     "data": {
      "text/html": [
       "<div>\n",
       "<style scoped>\n",
       "    .dataframe tbody tr th:only-of-type {\n",
       "        vertical-align: middle;\n",
       "    }\n",
       "\n",
       "    .dataframe tbody tr th {\n",
       "        vertical-align: top;\n",
       "    }\n",
       "\n",
       "    .dataframe thead th {\n",
       "        text-align: right;\n",
       "    }\n",
       "</style>\n",
       "<table border=\"1\" class=\"dataframe\">\n",
       "  <thead>\n",
       "    <tr style=\"text-align: right;\">\n",
       "      <th></th>\n",
       "      <th>Date Crawled</th>\n",
       "      <th>Name</th>\n",
       "      <th>Seller</th>\n",
       "      <th>Offer Type</th>\n",
       "      <th>Price</th>\n",
       "      <th>AB Test</th>\n",
       "      <th>Vehicle Type</th>\n",
       "      <th>Year of Registration</th>\n",
       "      <th>Gearbox</th>\n",
       "      <th>Power</th>\n",
       "      <th>...</th>\n",
       "      <th>Postal Code</th>\n",
       "      <th>Last Seen</th>\n",
       "      <th>Year of Creation</th>\n",
       "      <th>Year Crawled</th>\n",
       "      <th>Month of Creation</th>\n",
       "      <th>Month Crawled</th>\n",
       "      <th>Total Days Online</th>\n",
       "      <th>Total Hours Online</th>\n",
       "      <th>Years Old</th>\n",
       "      <th>Months Old</th>\n",
       "    </tr>\n",
       "  </thead>\n",
       "  <tbody>\n",
       "    <tr>\n",
       "      <th>313682</th>\n",
       "      <td>2016-03-21 09:50:58</td>\n",
       "      <td>Mitsubishi_Cold</td>\n",
       "      <td>privat</td>\n",
       "      <td>Offer</td>\n",
       "      <td>0</td>\n",
       "      <td>control</td>\n",
       "      <td>Other</td>\n",
       "      <td>2005</td>\n",
       "      <td>Manual</td>\n",
       "      <td>0</td>\n",
       "      <td>...</td>\n",
       "      <td>2694</td>\n",
       "      <td>2016-03-21 10:42:49</td>\n",
       "      <td>2016</td>\n",
       "      <td>2016</td>\n",
       "      <td>March</td>\n",
       "      <td>March</td>\n",
       "      <td>0</td>\n",
       "      <td>10</td>\n",
       "      <td>11</td>\n",
       "      <td>5</td>\n",
       "    </tr>\n",
       "    <tr>\n",
       "      <th>313683</th>\n",
       "      <td>2016-03-14 17:48:27</td>\n",
       "      <td>Suche_t4___vito_ab_6_sitze</td>\n",
       "      <td>privat</td>\n",
       "      <td>Offer</td>\n",
       "      <td>2200</td>\n",
       "      <td>test</td>\n",
       "      <td>Other</td>\n",
       "      <td>2005</td>\n",
       "      <td>Unspecified</td>\n",
       "      <td>0</td>\n",
       "      <td>...</td>\n",
       "      <td>39576</td>\n",
       "      <td>2016-04-06 00:46:52</td>\n",
       "      <td>2016</td>\n",
       "      <td>2016</td>\n",
       "      <td>March</td>\n",
       "      <td>March</td>\n",
       "      <td>23</td>\n",
       "      <td>0</td>\n",
       "      <td>11</td>\n",
       "      <td>11</td>\n",
       "    </tr>\n",
       "    <tr>\n",
       "      <th>313684</th>\n",
       "      <td>2016-03-05 19:56:21</td>\n",
       "      <td>Smart_smart_leistungssteigerung_100ps</td>\n",
       "      <td>privat</td>\n",
       "      <td>Offer</td>\n",
       "      <td>1199</td>\n",
       "      <td>test</td>\n",
       "      <td>Convertible</td>\n",
       "      <td>2000</td>\n",
       "      <td>Automatic</td>\n",
       "      <td>101</td>\n",
       "      <td>...</td>\n",
       "      <td>26135</td>\n",
       "      <td>2016-03-11 18:17:12</td>\n",
       "      <td>2016</td>\n",
       "      <td>2016</td>\n",
       "      <td>March</td>\n",
       "      <td>March</td>\n",
       "      <td>6</td>\n",
       "      <td>18</td>\n",
       "      <td>16</td>\n",
       "      <td>9</td>\n",
       "    </tr>\n",
       "    <tr>\n",
       "      <th>313685</th>\n",
       "      <td>2016-03-19 18:57:12</td>\n",
       "      <td>Volkswagen_Multivan_T4_TDI_7DC_UY2</td>\n",
       "      <td>privat</td>\n",
       "      <td>Offer</td>\n",
       "      <td>9200</td>\n",
       "      <td>test</td>\n",
       "      <td>Bus</td>\n",
       "      <td>1996</td>\n",
       "      <td>Manual</td>\n",
       "      <td>102</td>\n",
       "      <td>...</td>\n",
       "      <td>87439</td>\n",
       "      <td>2016-04-07 07:15:26</td>\n",
       "      <td>2016</td>\n",
       "      <td>2016</td>\n",
       "      <td>March</td>\n",
       "      <td>March</td>\n",
       "      <td>19</td>\n",
       "      <td>7</td>\n",
       "      <td>20</td>\n",
       "      <td>9</td>\n",
       "    </tr>\n",
       "    <tr>\n",
       "      <th>313686</th>\n",
       "      <td>2016-03-20 19:41:08</td>\n",
       "      <td>VW_Golf_Kombi_1_9l_TDI</td>\n",
       "      <td>privat</td>\n",
       "      <td>Offer</td>\n",
       "      <td>3400</td>\n",
       "      <td>test</td>\n",
       "      <td>Van</td>\n",
       "      <td>2002</td>\n",
       "      <td>Manual</td>\n",
       "      <td>100</td>\n",
       "      <td>...</td>\n",
       "      <td>40764</td>\n",
       "      <td>2016-03-24 12:45:21</td>\n",
       "      <td>2016</td>\n",
       "      <td>2016</td>\n",
       "      <td>March</td>\n",
       "      <td>March</td>\n",
       "      <td>4</td>\n",
       "      <td>12</td>\n",
       "      <td>14</td>\n",
       "      <td>6</td>\n",
       "    </tr>\n",
       "  </tbody>\n",
       "</table>\n",
       "<p>5 rows × 27 columns</p>\n",
       "</div>"
      ],
      "text/plain": [
       "               Date Crawled                                   Name  Seller  \\\n",
       "313682  2016-03-21 09:50:58                        Mitsubishi_Cold  privat   \n",
       "313683  2016-03-14 17:48:27             Suche_t4___vito_ab_6_sitze  privat   \n",
       "313684  2016-03-05 19:56:21  Smart_smart_leistungssteigerung_100ps  privat   \n",
       "313685  2016-03-19 18:57:12     Volkswagen_Multivan_T4_TDI_7DC_UY2  privat   \n",
       "313686  2016-03-20 19:41:08                 VW_Golf_Kombi_1_9l_TDI  privat   \n",
       "\n",
       "       Offer Type  Price  AB Test Vehicle Type  Year of Registration  \\\n",
       "313682      Offer      0  control        Other                  2005   \n",
       "313683      Offer   2200     test        Other                  2005   \n",
       "313684      Offer   1199     test  Convertible                  2000   \n",
       "313685      Offer   9200     test          Bus                  1996   \n",
       "313686      Offer   3400     test          Van                  2002   \n",
       "\n",
       "            Gearbox  Power  ... Postal Code            Last Seen  \\\n",
       "313682       Manual      0  ...        2694  2016-03-21 10:42:49   \n",
       "313683  Unspecified      0  ...       39576  2016-04-06 00:46:52   \n",
       "313684    Automatic    101  ...       26135  2016-03-11 18:17:12   \n",
       "313685       Manual    102  ...       87439  2016-04-07 07:15:26   \n",
       "313686       Manual    100  ...       40764  2016-03-24 12:45:21   \n",
       "\n",
       "       Year of Creation Year Crawled Month of Creation Month Crawled  \\\n",
       "313682             2016         2016             March         March   \n",
       "313683             2016         2016             March         March   \n",
       "313684             2016         2016             March         March   \n",
       "313685             2016         2016             March         March   \n",
       "313686             2016         2016             March         March   \n",
       "\n",
       "       Total Days Online  Total Hours Online Years Old  Months Old  \n",
       "313682                 0                  10        11           5  \n",
       "313683                23                   0        11          11  \n",
       "313684                 6                  18        16           9  \n",
       "313685                19                   7        20           9  \n",
       "313686                 4                  12        14           6  \n",
       "\n",
       "[5 rows x 27 columns]"
      ]
     },
     "execution_count": 3,
     "metadata": {},
     "output_type": "execute_result"
    }
   ],
   "source": [
    "# path to clean data\n",
    "\n",
    "clean_data_path = \"/Users/dallingleed/Downloads/Capstone Project/cleaned_autos_2.csv\"\n",
    "\n",
    "# reading csv into raw dataframe\n",
    "df = pd.read_csv(clean_data_path,encoding=\"latin-1\")\n",
    "\n",
    "df.tail()"
   ]
  },
  {
   "cell_type": "markdown",
   "metadata": {},
   "source": [
    "## Average price of vehicle by fuel type and gearbox type"
   ]
  },
  {
   "cell_type": "code",
   "execution_count": 4,
   "metadata": {},
   "outputs": [
    {
     "data": {
      "image/png": "[encoded data removed]",
      "text/plain": [
       "<Figure size 576x360 with 1 Axes>"
      ]
     },
     "metadata": {},
     "output_type": "display_data"
    }
   ],
   "source": [
    "# barplot for price based on fuel type and gearbox type\n",
    "fig, ax = plt.subplots(figsize=(8,5))\n",
    "colors = ['#1f77b4', '#ff7f0e', '#2ca02c']\n",
    "sns.barplot(x=\"Fuel Type\", y=\"Price\",hue=\"Gearbox\", palette=\"husl\",data=df)\n",
    "ax.set_title(\"The Average price of vehicles by fuel type and gearbox type\",fontdict= {'size':12})\n",
    "ax.xaxis.set_label_text(\"Type Of Fuel\",fontdict= {'size':14})\n",
    "ax.yaxis.set_label_text(\"Average Price\",fontdict={'size' :14})\n",
    "plt.show()"
   ]
  },
  {
   "cell_type": "code",
   "execution_count": 5,
   "metadata": {},
   "outputs": [],
   "source": [
    "# saving the plot\n",
    "\n",
    "fig.savefig(\"/Users/dallingleed/Downloads/Capstone Project/Analysis3Plots/fueltype-vehicleType-price.png\")"
   ]
  },
  {
   "cell_type": "markdown",
   "metadata": {},
   "source": [
    "## Average power of a vehicle by vehicle type and gearbox type "
   ]
  },
  {
   "cell_type": "code",
   "execution_count": 6,
   "metadata": {},
   "outputs": [
    {
     "data": {
      "image/png": "[encoded data removed]",
      "text/plain": [
       "<Figure size 576x360 with 1 Axes>"
      ]
     },
     "metadata": {},
     "output_type": "display_data"
    }
   ],
   "source": [
    "# barplot for price based on fuel type and gearbox type\n",
    "colors = [\"windows blue\", \"amber\", \"greyish\", \"faded green\", \"dusty purple\"]\n",
    "fig, ax = plt.subplots(figsize=(8,5))\n",
    "sns.set_palette(sns.xkcd_palette(colors))\n",
    "sns.barplot(x=\"Vehicle Type\", y=\"Power\",hue=\"Gearbox\",data=df)\n",
    "ax.set_title(\"Average power of vehicles by vehicle type and gearbox type\",fontdict= {'size':12})\n",
    "ax.xaxis.set_label_text(\"Type Of Vehicle\",fontdict= {'size':14})\n",
    "ax.yaxis.set_label_text(\"Average Power\",fontdict= {'size':14})\n",
    "plt.show()"
   ]
  },
  {
   "cell_type": "code",
   "execution_count": 7,
   "metadata": {},
   "outputs": [],
   "source": [
    "# saving the plot\n",
    "\n",
    "fig.savefig(\"/Users/dallingleed/Downloads/Capstone Project/Analysis3Plots/vehicletype-fueltype-power.png\")"
   ]
  },
  {
   "cell_type": "code",
   "execution_count": null,
   "metadata": {
    "collapsed": true
   },
   "outputs": [],
   "source": []
  }
 ],
 "metadata": {
  "anaconda-cloud": {},
  "kernelspec": {
   "display_name": "Python 3",
   "language": "python",
   "name": "python3"
  },
  "language_info": {
   "codemirror_mode": {
    "name": "ipython",
    "version": 3
   },
   "file_extension": ".py",
   "mimetype": "text/x-python",
   "name": "python",
   "nbconvert_exporter": "python",
   "pygments_lexer": "ipython3",
   "version": "3.8.3"
  }
 },
 "nbformat": 4,
 "nbformat_minor": 1
}
